{
 "cells": [
  {
   "cell_type": "code",
   "execution_count": 2,
   "metadata": {},
   "outputs": [],
   "source": [
    "data = {\"ChatGPT\": [5, 2, 4, 4, 2, 1, 3, 6, 1, 4], \"DeepSeek\": [5, 2, 4, 3, 2, 1, 3, 5, 1, 3], \"Gemini\": [5, 3, 4, 6, 2, 1, 4, 6, 1, 6], \"Llama\": [5, 2, 6, 4, 2, 1, 4, 5, 1, 5]}\n",
    "cot_data = {\"ChatGPT\": [3, 2, 6, 6, 3, 1, 3, 5, 1, 4], \"DeepSeek\": [5, 2, 6, 3, 2, 2, 3, 4, 2, 3], \"Gemini\": [3, 2, 6, 4, 2, 1, 6, 4, 1, 5], \"Llama\": [5, 2, 4, 3, 2, 1, 3, 6, 1, 2]}"
   ]
  },
  {
   "cell_type": "code",
   "execution_count": 39,
   "metadata": {},
   "outputs": [
    {
     "data": {
      "application/vnd.plotly.v1+json": {
       "config": {
        "plotlyServerURL": "https://plot.ly"
       },
       "data": [
        {
         "cells": {
          "align": "center",
          "fill": {
           "color": "white"
          },
          "font": {
           "color": "black",
           "size": 12
          },
          "height": 30,
          "line": {
           "color": "black"
          },
          "values": [
           [
            "ChatGPT",
            "DeepSeek",
            "Gemini",
            "Llama"
           ],
           [
            32,
            29,
            38,
            35
           ],
           [
            34,
            32,
            34,
            29
           ],
           [
            2,
            3,
            -4,
            -6
           ]
          ]
         },
         "columnwidth": [
          150,
          250,
          250,
          250
         ],
         "header": {
          "align": "center",
          "fill": {
           "color": "#1f77b4"
          },
          "font": {
           "color": "white",
           "size": 14
          },
          "line": {
           "color": "black"
          },
          "values": [
           "LLM",
           "Standard Scores",
           "COT Scores",
           "Score Difference"
          ]
         },
         "type": "table"
        }
       ],
       "layout": {
        "margin": {
         "b": 50,
         "l": 50,
         "r": 50,
         "t": 50
        },
        "template": {
         "data": {
          "bar": [
           {
            "error_x": {
             "color": "#2a3f5f"
            },
            "error_y": {
             "color": "#2a3f5f"
            },
            "marker": {
             "line": {
              "color": "#E5ECF6",
              "width": 0.5
             },
             "pattern": {
              "fillmode": "overlay",
              "size": 10,
              "solidity": 0.2
             }
            },
            "type": "bar"
           }
          ],
          "barpolar": [
           {
            "marker": {
             "line": {
              "color": "#E5ECF6",
              "width": 0.5
             },
             "pattern": {
              "fillmode": "overlay",
              "size": 10,
              "solidity": 0.2
             }
            },
            "type": "barpolar"
           }
          ],
          "carpet": [
           {
            "aaxis": {
             "endlinecolor": "#2a3f5f",
             "gridcolor": "white",
             "linecolor": "white",
             "minorgridcolor": "white",
             "startlinecolor": "#2a3f5f"
            },
            "baxis": {
             "endlinecolor": "#2a3f5f",
             "gridcolor": "white",
             "linecolor": "white",
             "minorgridcolor": "white",
             "startlinecolor": "#2a3f5f"
            },
            "type": "carpet"
           }
          ],
          "choropleth": [
           {
            "colorbar": {
             "outlinewidth": 0,
             "ticks": ""
            },
            "type": "choropleth"
           }
          ],
          "contour": [
           {
            "colorbar": {
             "outlinewidth": 0,
             "ticks": ""
            },
            "colorscale": [
             [
              0,
              "#0d0887"
             ],
             [
              0.1111111111111111,
              "#46039f"
             ],
             [
              0.2222222222222222,
              "#7201a8"
             ],
             [
              0.3333333333333333,
              "#9c179e"
             ],
             [
              0.4444444444444444,
              "#bd3786"
             ],
             [
              0.5555555555555556,
              "#d8576b"
             ],
             [
              0.6666666666666666,
              "#ed7953"
             ],
             [
              0.7777777777777778,
              "#fb9f3a"
             ],
             [
              0.8888888888888888,
              "#fdca26"
             ],
             [
              1,
              "#f0f921"
             ]
            ],
            "type": "contour"
           }
          ],
          "contourcarpet": [
           {
            "colorbar": {
             "outlinewidth": 0,
             "ticks": ""
            },
            "type": "contourcarpet"
           }
          ],
          "heatmap": [
           {
            "colorbar": {
             "outlinewidth": 0,
             "ticks": ""
            },
            "colorscale": [
             [
              0,
              "#0d0887"
             ],
             [
              0.1111111111111111,
              "#46039f"
             ],
             [
              0.2222222222222222,
              "#7201a8"
             ],
             [
              0.3333333333333333,
              "#9c179e"
             ],
             [
              0.4444444444444444,
              "#bd3786"
             ],
             [
              0.5555555555555556,
              "#d8576b"
             ],
             [
              0.6666666666666666,
              "#ed7953"
             ],
             [
              0.7777777777777778,
              "#fb9f3a"
             ],
             [
              0.8888888888888888,
              "#fdca26"
             ],
             [
              1,
              "#f0f921"
             ]
            ],
            "type": "heatmap"
           }
          ],
          "heatmapgl": [
           {
            "colorbar": {
             "outlinewidth": 0,
             "ticks": ""
            },
            "colorscale": [
             [
              0,
              "#0d0887"
             ],
             [
              0.1111111111111111,
              "#46039f"
             ],
             [
              0.2222222222222222,
              "#7201a8"
             ],
             [
              0.3333333333333333,
              "#9c179e"
             ],
             [
              0.4444444444444444,
              "#bd3786"
             ],
             [
              0.5555555555555556,
              "#d8576b"
             ],
             [
              0.6666666666666666,
              "#ed7953"
             ],
             [
              0.7777777777777778,
              "#fb9f3a"
             ],
             [
              0.8888888888888888,
              "#fdca26"
             ],
             [
              1,
              "#f0f921"
             ]
            ],
            "type": "heatmapgl"
           }
          ],
          "histogram": [
           {
            "marker": {
             "pattern": {
              "fillmode": "overlay",
              "size": 10,
              "solidity": 0.2
             }
            },
            "type": "histogram"
           }
          ],
          "histogram2d": [
           {
            "colorbar": {
             "outlinewidth": 0,
             "ticks": ""
            },
            "colorscale": [
             [
              0,
              "#0d0887"
             ],
             [
              0.1111111111111111,
              "#46039f"
             ],
             [
              0.2222222222222222,
              "#7201a8"
             ],
             [
              0.3333333333333333,
              "#9c179e"
             ],
             [
              0.4444444444444444,
              "#bd3786"
             ],
             [
              0.5555555555555556,
              "#d8576b"
             ],
             [
              0.6666666666666666,
              "#ed7953"
             ],
             [
              0.7777777777777778,
              "#fb9f3a"
             ],
             [
              0.8888888888888888,
              "#fdca26"
             ],
             [
              1,
              "#f0f921"
             ]
            ],
            "type": "histogram2d"
           }
          ],
          "histogram2dcontour": [
           {
            "colorbar": {
             "outlinewidth": 0,
             "ticks": ""
            },
            "colorscale": [
             [
              0,
              "#0d0887"
             ],
             [
              0.1111111111111111,
              "#46039f"
             ],
             [
              0.2222222222222222,
              "#7201a8"
             ],
             [
              0.3333333333333333,
              "#9c179e"
             ],
             [
              0.4444444444444444,
              "#bd3786"
             ],
             [
              0.5555555555555556,
              "#d8576b"
             ],
             [
              0.6666666666666666,
              "#ed7953"
             ],
             [
              0.7777777777777778,
              "#fb9f3a"
             ],
             [
              0.8888888888888888,
              "#fdca26"
             ],
             [
              1,
              "#f0f921"
             ]
            ],
            "type": "histogram2dcontour"
           }
          ],
          "mesh3d": [
           {
            "colorbar": {
             "outlinewidth": 0,
             "ticks": ""
            },
            "type": "mesh3d"
           }
          ],
          "parcoords": [
           {
            "line": {
             "colorbar": {
              "outlinewidth": 0,
              "ticks": ""
             }
            },
            "type": "parcoords"
           }
          ],
          "pie": [
           {
            "automargin": true,
            "type": "pie"
           }
          ],
          "scatter": [
           {
            "fillpattern": {
             "fillmode": "overlay",
             "size": 10,
             "solidity": 0.2
            },
            "type": "scatter"
           }
          ],
          "scatter3d": [
           {
            "line": {
             "colorbar": {
              "outlinewidth": 0,
              "ticks": ""
             }
            },
            "marker": {
             "colorbar": {
              "outlinewidth": 0,
              "ticks": ""
             }
            },
            "type": "scatter3d"
           }
          ],
          "scattercarpet": [
           {
            "marker": {
             "colorbar": {
              "outlinewidth": 0,
              "ticks": ""
             }
            },
            "type": "scattercarpet"
           }
          ],
          "scattergeo": [
           {
            "marker": {
             "colorbar": {
              "outlinewidth": 0,
              "ticks": ""
             }
            },
            "type": "scattergeo"
           }
          ],
          "scattergl": [
           {
            "marker": {
             "colorbar": {
              "outlinewidth": 0,
              "ticks": ""
             }
            },
            "type": "scattergl"
           }
          ],
          "scattermapbox": [
           {
            "marker": {
             "colorbar": {
              "outlinewidth": 0,
              "ticks": ""
             }
            },
            "type": "scattermapbox"
           }
          ],
          "scatterpolar": [
           {
            "marker": {
             "colorbar": {
              "outlinewidth": 0,
              "ticks": ""
             }
            },
            "type": "scatterpolar"
           }
          ],
          "scatterpolargl": [
           {
            "marker": {
             "colorbar": {
              "outlinewidth": 0,
              "ticks": ""
             }
            },
            "type": "scatterpolargl"
           }
          ],
          "scatterternary": [
           {
            "marker": {
             "colorbar": {
              "outlinewidth": 0,
              "ticks": ""
             }
            },
            "type": "scatterternary"
           }
          ],
          "surface": [
           {
            "colorbar": {
             "outlinewidth": 0,
             "ticks": ""
            },
            "colorscale": [
             [
              0,
              "#0d0887"
             ],
             [
              0.1111111111111111,
              "#46039f"
             ],
             [
              0.2222222222222222,
              "#7201a8"
             ],
             [
              0.3333333333333333,
              "#9c179e"
             ],
             [
              0.4444444444444444,
              "#bd3786"
             ],
             [
              0.5555555555555556,
              "#d8576b"
             ],
             [
              0.6666666666666666,
              "#ed7953"
             ],
             [
              0.7777777777777778,
              "#fb9f3a"
             ],
             [
              0.8888888888888888,
              "#fdca26"
             ],
             [
              1,
              "#f0f921"
             ]
            ],
            "type": "surface"
           }
          ],
          "table": [
           {
            "cells": {
             "fill": {
              "color": "#EBF0F8"
             },
             "line": {
              "color": "white"
             }
            },
            "header": {
             "fill": {
              "color": "#C8D4E3"
             },
             "line": {
              "color": "white"
             }
            },
            "type": "table"
           }
          ]
         },
         "layout": {
          "annotationdefaults": {
           "arrowcolor": "#2a3f5f",
           "arrowhead": 0,
           "arrowwidth": 1
          },
          "autotypenumbers": "strict",
          "coloraxis": {
           "colorbar": {
            "outlinewidth": 0,
            "ticks": ""
           }
          },
          "colorscale": {
           "diverging": [
            [
             0,
             "#8e0152"
            ],
            [
             0.1,
             "#c51b7d"
            ],
            [
             0.2,
             "#de77ae"
            ],
            [
             0.3,
             "#f1b6da"
            ],
            [
             0.4,
             "#fde0ef"
            ],
            [
             0.5,
             "#f7f7f7"
            ],
            [
             0.6,
             "#e6f5d0"
            ],
            [
             0.7,
             "#b8e186"
            ],
            [
             0.8,
             "#7fbc41"
            ],
            [
             0.9,
             "#4d9221"
            ],
            [
             1,
             "#276419"
            ]
           ],
           "sequential": [
            [
             0,
             "#0d0887"
            ],
            [
             0.1111111111111111,
             "#46039f"
            ],
            [
             0.2222222222222222,
             "#7201a8"
            ],
            [
             0.3333333333333333,
             "#9c179e"
            ],
            [
             0.4444444444444444,
             "#bd3786"
            ],
            [
             0.5555555555555556,
             "#d8576b"
            ],
            [
             0.6666666666666666,
             "#ed7953"
            ],
            [
             0.7777777777777778,
             "#fb9f3a"
            ],
            [
             0.8888888888888888,
             "#fdca26"
            ],
            [
             1,
             "#f0f921"
            ]
           ],
           "sequentialminus": [
            [
             0,
             "#0d0887"
            ],
            [
             0.1111111111111111,
             "#46039f"
            ],
            [
             0.2222222222222222,
             "#7201a8"
            ],
            [
             0.3333333333333333,
             "#9c179e"
            ],
            [
             0.4444444444444444,
             "#bd3786"
            ],
            [
             0.5555555555555556,
             "#d8576b"
            ],
            [
             0.6666666666666666,
             "#ed7953"
            ],
            [
             0.7777777777777778,
             "#fb9f3a"
            ],
            [
             0.8888888888888888,
             "#fdca26"
            ],
            [
             1,
             "#f0f921"
            ]
           ]
          },
          "colorway": [
           "#636efa",
           "#EF553B",
           "#00cc96",
           "#ab63fa",
           "#FFA15A",
           "#19d3f3",
           "#FF6692",
           "#B6E880",
           "#FF97FF",
           "#FECB52"
          ],
          "font": {
           "color": "#2a3f5f"
          },
          "geo": {
           "bgcolor": "white",
           "lakecolor": "white",
           "landcolor": "#E5ECF6",
           "showlakes": true,
           "showland": true,
           "subunitcolor": "white"
          },
          "hoverlabel": {
           "align": "left"
          },
          "hovermode": "closest",
          "mapbox": {
           "style": "light"
          },
          "paper_bgcolor": "white",
          "plot_bgcolor": "#E5ECF6",
          "polar": {
           "angularaxis": {
            "gridcolor": "white",
            "linecolor": "white",
            "ticks": ""
           },
           "bgcolor": "#E5ECF6",
           "radialaxis": {
            "gridcolor": "white",
            "linecolor": "white",
            "ticks": ""
           }
          },
          "scene": {
           "xaxis": {
            "backgroundcolor": "#E5ECF6",
            "gridcolor": "white",
            "gridwidth": 2,
            "linecolor": "white",
            "showbackground": true,
            "ticks": "",
            "zerolinecolor": "white"
           },
           "yaxis": {
            "backgroundcolor": "#E5ECF6",
            "gridcolor": "white",
            "gridwidth": 2,
            "linecolor": "white",
            "showbackground": true,
            "ticks": "",
            "zerolinecolor": "white"
           },
           "zaxis": {
            "backgroundcolor": "#E5ECF6",
            "gridcolor": "white",
            "gridwidth": 2,
            "linecolor": "white",
            "showbackground": true,
            "ticks": "",
            "zerolinecolor": "white"
           }
          },
          "shapedefaults": {
           "line": {
            "color": "#2a3f5f"
           }
          },
          "ternary": {
           "aaxis": {
            "gridcolor": "white",
            "linecolor": "white",
            "ticks": ""
           },
           "baxis": {
            "gridcolor": "white",
            "linecolor": "white",
            "ticks": ""
           },
           "bgcolor": "#E5ECF6",
           "caxis": {
            "gridcolor": "white",
            "linecolor": "white",
            "ticks": ""
           }
          },
          "title": {
           "x": 0.05
          },
          "xaxis": {
           "automargin": true,
           "gridcolor": "white",
           "linecolor": "white",
           "ticks": "",
           "title": {
            "standoff": 15
           },
           "zerolinecolor": "white",
           "zerolinewidth": 2
          },
          "yaxis": {
           "automargin": true,
           "gridcolor": "white",
           "linecolor": "white",
           "ticks": "",
           "title": {
            "standoff": 15
           },
           "zerolinecolor": "white",
           "zerolinewidth": 2
          }
         }
        },
        "width": 600,
        "xaxis": {
         "tickangle": -45
        }
       }
      }
     },
     "metadata": {},
     "output_type": "display_data"
    }
   ],
   "source": [
    "import pandas as pd\n",
    "import plotly.graph_objects as go\n",
    "\n",
    "# Convert data to DataFrame\n",
    "df = pd.DataFrame(data)\n",
    "cot_df = pd.DataFrame(cot_data)\n",
    "\n",
    "# Sum the scores for each LLM for both standard and COT prompts\n",
    "standard_totals = df.sum()\n",
    "cot_totals = cot_df.sum()\n",
    "\n",
    "# Calculate the difference between the standard and COT totals for each LLM\n",
    "score_difference = cot_totals - standard_totals\n",
    "\n",
    "# Create final table with LLM names, standard scores, COT scores, and their difference\n",
    "final_df = pd.DataFrame({\n",
    "    \"Standard Scores\": standard_totals,\n",
    "    \"COT Scores\": cot_totals,\n",
    "    \"Score Difference\": score_difference\n",
    "})\n",
    "\n",
    "# Create a Plotly table with the specified blue header and white background\n",
    "fig = go.Figure(data=[go.Table(\n",
    "    header=dict(\n",
    "        values=[\"LLM\", \"Standard Scores\", \"COT Scores\", \"Score Difference\"],\n",
    "        fill_color='#1f77b4',  # Custom blue header color (hex code)\n",
    "        font=dict(color='white', size=14),  # White text on blue header\n",
    "        align='center',\n",
    "        line_color='black',  # Black borders for header\n",
    "    ),\n",
    "    cells=dict(\n",
    "        values=[final_df.index, final_df['Standard Scores'], final_df['COT Scores'], final_df['Score Difference']],\n",
    "        fill_color='white',  # White background for table cells\n",
    "        font=dict(color='black', size=12),  # Black text for table cells\n",
    "        align='center',\n",
    "        line_color='black',  # Black borders for cells\n",
    "        height=30  # Adjust row height\n",
    "    ),\n",
    ")])\n",
    "\n",
    "# Adjust the column widths using the 'columnwidth' argument in the layout\n",
    "fig.update_layout(\n",
    "    margin=dict(t=50, b=50, l=50, r=50),\n",
    "    xaxis=dict(tickangle=-45),\n",
    "    width=600  # Optional: Adjust the overall width of the figure\n",
    ")\n",
    "\n",
    "# Adjust the table column widths (this needs to be done through layout instead of cells)\n",
    "fig.update_traces(\n",
    "    columnwidth=[150, 250, 250, 250]  # Adjusting the widths of the columns\n",
    ")\n",
    "\n",
    "# Show the table\n",
    "fig.show()\n"
   ]
  },
  {
   "cell_type": "code",
   "execution_count": 11,
   "metadata": {},
   "outputs": [
    {
     "data": {
      "image/png": "[encoded data removed]",
      "text/plain": [
       "<Figure size 1600x600 with 1 Axes>"
      ]
     },
     "metadata": {},
     "output_type": "display_data"
    }
   ],
   "source": [
    "import pandas as pd\n",
    "import matplotlib.pyplot as plt\n",
    "import seaborn as sns\n",
    "\n",
    "# Raw data\n",
    "data = {\n",
    "    \"ChatGPT\": [5, 2, 4, 4, 2, 1, 3, 6, 1, 4],\n",
    "    \"DeepSeek\": [5, 2, 4, 3, 2, 1, 3, 5, 1, 3],\n",
    "    \"Gemini\": [5, 3, 4, 6, 2, 1, 4, 6, 1, 6],\n",
    "    \"Llama\": [5, 2, 6, 4, 2, 1, 4, 5, 1, 5]\n",
    "}\n",
    "\n",
    "cot_data = {\n",
    "    \"ChatGPT\": [3, 2, 6, 6, 3, 1, 3, 5, 1, 4],\n",
    "    \"DeepSeek\": [5, 2, 6, 3, 2, 2, 3, 4, 2, 3],\n",
    "    \"Gemini\": [3, 2, 6, 4, 2, 1, 6, 4, 1, 5],\n",
    "    \"Llama\": [5, 2, 4, 3, 2, 1, 3, 6, 1, 2]\n",
    "}\n",
    "\n",
    "# Convert to DataFrames\n",
    "df = pd.DataFrame(data)\n",
    "cot_df = pd.DataFrame(cot_data)\n",
    "\n",
    "# Reshape and label\n",
    "df_long = df.reset_index().melt(id_vars='index', var_name='LLM', value_name='Score')\n",
    "df_long['Game'] = df_long['index'] + 1\n",
    "df_long['Prompt'] = 'Standard'\n",
    "df_long = df_long.drop(columns='index')\n",
    "\n",
    "cot_df_long = cot_df.reset_index().melt(id_vars='index', var_name='LLM', value_name='Score')\n",
    "cot_df_long['Game'] = cot_df_long['index'] + 1\n",
    "cot_df_long['Prompt'] = 'CoT'\n",
    "cot_df_long = cot_df_long.drop(columns='index')\n",
    "\n",
    "# Combine\n",
    "combined_df = pd.concat([df_long, cot_df_long], ignore_index=True)\n",
    "\n",
    "# Create new x-axis positions like in a grouped bar chart\n",
    "combined_df['Group'] = combined_df['Game'].astype(str) + '_' + combined_df['Prompt']\n",
    "group_order = sorted(combined_df['Group'].unique(), key=lambda x: (int(x.split('_')[0]), x.split('_')[1]))\n",
    "group_to_x = {group: i for i, group in enumerate(group_order)}\n",
    "combined_df['GroupX'] = combined_df['Group'].map(group_to_x)\n",
    "\n",
    "# Compute averages\n",
    "avg_df = combined_df.groupby(['GroupX']).agg({'Score': 'mean'}).reset_index()\n",
    "avg_df['Group'] = [k for k, v in group_to_x.items() if v in avg_df['GroupX'].values]\n",
    "avg_df['Game'] = avg_df['Group'].str.extract(r'^(\\d+)_').astype(int)\n",
    "avg_df['Prompt'] = avg_df['Group'].str.extract(r'_(CoT|Standard)')\n",
    "avg_df['Label'] = 'Average'\n",
    "\n",
    "# Plot\n",
    "plt.figure(figsize=(16, 6))\n",
    "\n",
    "# Individual points\n",
    "sns.stripplot(\n",
    "    data=combined_df,\n",
    "    x='GroupX',\n",
    "    y='Score',\n",
    "    hue='LLM',\n",
    "    dodge=False,\n",
    "    jitter=0.15,\n",
    "    palette='Set2',\n",
    "    alpha=0.7\n",
    ")\n",
    "\n",
    "# Overlay averages\n",
    "plt.scatter(\n",
    "    x=avg_df['GroupX'],\n",
    "    y=avg_df['Score'],\n",
    "    color='black',\n",
    "    marker='X',\n",
    "    s=120,\n",
    "    label='Average'\n",
    ")\n",
    "\n",
    "# Custom x-tick labels\n",
    "xticks = list(group_to_x.values())\n",
    "xtick_labels = [f'G{group.split(\"_\")[0]}\\n{group.split(\"_\")[1]}' for group in group_order]\n",
    "plt.xticks(ticks=xticks, labels=xtick_labels)\n",
    "\n",
    "# Labels and formatting\n",
    "plt.xlabel('Game and Prompt Type')\n",
    "plt.ylabel('Score')\n",
    "plt.title('Grouped Scores by Game and Prompt Type (Points Only)')\n",
    "plt.legend(bbox_to_anchor=(1.05, 1), loc='upper left', title='LLM')\n",
    "plt.tight_layout()\n",
    "plt.show()\n"
   ]
  },
  {
   "cell_type": "code",
   "execution_count": null,
   "metadata": {},
   "outputs": [
    {
     "data": {
      "image/png": "[encoded data removed]",
      "text/plain": [
       "<Figure size 1400x600 with 1 Axes>"
      ]
     },
     "metadata": {},
     "output_type": "display_data"
    }
   ],
   "source": []
  },
  {
   "cell_type": "code",
   "execution_count": 38,
   "metadata": {},
   "outputs": [
    {
     "data": {
      "image/png": "[encoded data removed]",
      "text/plain": [
       "<Figure size 1400x600 with 1 Axes>"
      ]
     },
     "metadata": {},
     "output_type": "display_data"
    }
   ],
   "source": [
    "import pandas as pd\n",
    "import matplotlib.pyplot as plt\n",
    "import seaborn as sns\n",
    "\n",
    "# Raw data\n",
    "data = {\n",
    "    \"ChatGPT\": [5, 2, 4, 4, 2, 1, 3, 6, 1, 4],\n",
    "    \"DeepSeek\": [5, 2, 4, 3, 2, 1, 3, 5, 1, 3],\n",
    "    \"Gemini\": [5, 3, 4, 6, 2, 1, 4, 6, 1, 6],\n",
    "    \"Llama\": [5, 2, 6, 4, 2, 1, 4, 5, 1, 5]\n",
    "}\n",
    "\n",
    "cot_data = {\n",
    "    \"ChatGPT\": [3, 2, 6, 6, 3, 1, 3, 5, 1, 4],\n",
    "    \"DeepSeek\": [5, 2, 6, 3, 2, 2, 3, 4, 2, 3],\n",
    "    \"Gemini\": [3, 2, 6, 4, 2, 1, 6, 4, 1, 5],\n",
    "    \"Llama\": [5, 2, 4, 3, 2, 1, 3, 6, 1, 2]\n",
    "}\n",
    "\n",
    "# Convert to DataFrames\n",
    "df = pd.DataFrame(data)\n",
    "cot_df = pd.DataFrame(cot_data)\n",
    "\n",
    "# Reshape and label\n",
    "df_long = df.reset_index().melt(id_vars='index', var_name='LLM', value_name='Score')\n",
    "df_long['Game'] = df_long['index'] + 1\n",
    "df_long['Prompt'] = 'Standard'\n",
    "df_long = df_long.drop(columns='index')\n",
    "\n",
    "cot_df_long = cot_df.reset_index().melt(id_vars='index', var_name='LLM', value_name='Score')\n",
    "cot_df_long['Game'] = cot_df_long['index'] + 1\n",
    "cot_df_long['Prompt'] = 'CoT'\n",
    "cot_df_long = cot_df_long.drop(columns='index')\n",
    "\n",
    "# Combine datasets\n",
    "combined_df = pd.concat([df_long, cot_df_long], ignore_index=True)\n",
    "\n",
    "# Aggregate: min, max, mean per Game+Prompt\n",
    "agg_df = combined_df.groupby(['Game', 'Prompt']).agg(\n",
    "    mean_score=('Score', 'mean'),\n",
    "    min_score=('Score', 'min'),\n",
    "    max_score=('Score', 'max')\n",
    ").reset_index()\n",
    "\n",
    "# Set up positions for bars (Standard on left, CoT on right)\n",
    "prompt_order = ['Standard', 'CoT']\n",
    "x_pos = []\n",
    "width = 0.35  # Width of the bars\n",
    "\n",
    "for game in sorted(agg_df['Game'].unique()):\n",
    "    x_pos.append(game - width/2)  # Position for CoT bar\n",
    "    x_pos.append(game + width/2)  # Position for Standard bar\n",
    "\n",
    "agg_df['x'] = x_pos\n",
    "\n",
    "# Plot\n",
    "plt.figure(figsize=(14, 6))\n",
    "\n",
    "# Plot bars with light blue and standard blue\n",
    "bar_container = plt.bar(\n",
    "    agg_df['x'],\n",
    "    agg_df['mean_score'],\n",
    "    color=['#add8e6' if p == 'Standard' else '#1f77b4' for p in agg_df['Prompt']],  # Light blue for Standard, Standard blue for CoT\n",
    "    edgecolor='black',\n",
    "    width=width\n",
    ")\n",
    "\n",
    "# Add whiskers (min to max)\n",
    "for i, row in agg_df.iterrows():\n",
    "    plt.vlines(\n",
    "        x=row['x'],\n",
    "        ymin=row['min_score'],\n",
    "        ymax=row['max_score'],\n",
    "        color='black',\n",
    "        linewidth=1.5\n",
    "    )\n",
    "\n",
    "# Customize x-ticks and labels\n",
    "plt.xticks(ticks=range(1, 11), labels=[str(i) for i in range(1, 11)])  # Games 1-10\n",
    "plt.xlabel('Game', fontsize=14, fontweight='bold', fontname='Arial')\n",
    "plt.ylabel('Score', fontsize=14, fontweight='bold', fontname='Arial')\n",
    "plt.title('Grouped Bar Plot of Average Scores Across LLMs', fontsize=18, fontweight='bold', fontname='Arial')\n",
    "\n",
    "# Customize legend: Positioning it at the top center\n",
    "legend_elements = [\n",
    "    plt.Line2D([0], [0], color='#1f77b4', lw=10, label='CoT'),\n",
    "    plt.Line2D([0], [0], color='#add8e6', lw=10, label='Standard')\n",
    "]\n",
    "plt.legend(handles=legend_elements, title='Prompt Type', bbox_to_anchor=(0.5, 0.95), loc='upper center', ncol=2)\n",
    "\n",
    "# Layout adjustment\n",
    "plt.tight_layout()\n",
    "plt.show()\n"
   ]
  },
  {
   "cell_type": "code",
   "execution_count": 28,
   "metadata": {},
   "outputs": [
    {
     "name": "stdout",
     "output_type": "stream",
     "text": [
      "Average Difference across games between Standard and CoT scores:\n",
      "0.125\n"
     ]
    }
   ],
   "source": [
    "import pandas as pd\n",
    "\n",
    "# Raw data for Standard and CoT scores\n",
    "data = {\n",
    "    \"ChatGPT\": [5, 2, 4, 4, 2, 1, 3, 6, 1, 4],\n",
    "    \"DeepSeek\": [5, 2, 4, 3, 2, 1, 3, 5, 1, 3],\n",
    "    \"Gemini\": [5, 3, 4, 6, 2, 1, 4, 6, 1, 6],\n",
    "    \"Llama\": [5, 2, 6, 4, 2, 1, 4, 5, 1, 5]\n",
    "}\n",
    "\n",
    "cot_data = {\n",
    "    \"ChatGPT\": [3, 2, 6, 6, 3, 1, 3, 5, 1, 4],\n",
    "    \"DeepSeek\": [5, 2, 6, 3, 2, 2, 3, 4, 2, 3],\n",
    "    \"Gemini\": [3, 2, 6, 4, 2, 1, 6, 4, 1, 5],\n",
    "    \"Llama\": [5, 2, 4, 3, 2, 1, 3, 6, 1, 2]\n",
    "}\n",
    "\n",
    "# Convert to DataFrames\n",
    "df = pd.DataFrame(data)\n",
    "cot_df = pd.DataFrame(cot_data)\n",
    "\n",
    "# Compute average scores for each game (across LLMs) for both Standard and CoT\n",
    "standard_avg_per_game = df.mean(axis=1)  # Mean of rows (games) for Standard data\n",
    "cot_avg_per_game = cot_df.mean(axis=1)  # Mean of rows (games) for CoT data\n",
    "\n",
    "# Compute the difference between Standard and CoT averages for each game\n",
    "difference_per_game = standard_avg_per_game - cot_avg_per_game\n",
    "\n",
    "# Compute the average of these differences\n",
    "average_difference_across_games = difference_per_game.mean()\n",
    "\n",
    "# Print the result\n",
    "print(\"Average Difference across games between Standard and CoT scores:\")\n",
    "print(average_difference_across_games)\n"
   ]
  }
 ],
 "metadata": {
  "kernelspec": {
   "display_name": "Python 3",
   "language": "python",
   "name": "python3"
  },
  "language_info": {
   "codemirror_mode": {
    "name": "ipython",
    "version": 3
   },
   "file_extension": ".py",
   "mimetype": "text/x-python",
   "name": "python",
   "nbconvert_exporter": "python",
   "pygments_lexer": "ipython3",
   "version": "3.10.8"
  }
 },
 "nbformat": 4,
 "nbformat_minor": 2
}
